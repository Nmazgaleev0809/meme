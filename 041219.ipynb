{
 "cells": [
  {
   "cell_type": "code",
   "execution_count": null,
   "metadata": {},
   "outputs": [],
   "source": []
  },
  {
   "cell_type": "code",
   "execution_count": null,
   "metadata": {},
   "outputs": [],
   "source": [
    "def stock_list(listOfArt, listOfCat):\n",
    "    ans = [int(i) for i in list(str(0)*len(listOfCat))]\n",
    "    for i in listOfArt:\n",
    "        i = i.split()\n",
    "        if i[0][0] in listOfCat:\n",
    "            ans[listOfCat.index(i[0][0])]+= int(i[1])\n",
    "    ans_arr = []\n",
    "    i = 0\n",
    "    while i < len(listOfCat):\n",
    "        ans_arr.append('('+listOfCat[i]+' : '+str(ans[i])+')')\n",
    "        i+=1\n",
    "    if len(listOfArt)==0 or len(listOfCat)==0:\n",
    "        return ' '\n",
    "    if ans.count(0)==len(ans):\n",
    "        return ' '\n",
    "    return ' - '.join(ans_arr)\n",
    "b = [\"ABAR 200\", \"CDXE 500\", \"BKWR 250\", \"BTSQ 890\", \"DRTY 600\"]\n",
    "c = [\"A\", \"B\"]\n",
    "print(stock_list(b, c))"
   ]
  },
  {
   "cell_type": "code",
   "execution_count": null,
   "metadata": {
    "scrolled": true
   },
   "outputs": [],
   "source": []
  },
  {
   "cell_type": "code",
   "execution_count": null,
   "metadata": {},
   "outputs": [],
   "source": []
  },
  {
   "cell_type": "code",
   "execution_count": null,
   "metadata": {},
   "outputs": [],
   "source": []
  },
  {
   "cell_type": "code",
   "execution_count": null,
   "metadata": {},
   "outputs": [],
   "source": []
  },
  {
   "cell_type": "code",
   "execution_count": null,
   "metadata": {},
   "outputs": [],
   "source": []
  },
  {
   "cell_type": "code",
   "execution_count": null,
   "metadata": {},
   "outputs": [],
   "source": []
  }
 ],
 "metadata": {
  "kernelspec": {
   "display_name": "Python 3",
   "language": "python",
   "name": "python3"
  },
  "language_info": {
   "codemirror_mode": {
    "name": "ipython",
    "version": 3
   },
   "file_extension": ".py",
   "mimetype": "text/x-python",
   "name": "python",
   "nbconvert_exporter": "python",
   "pygments_lexer": "ipython3",
   "version": "3.7.4"
  }
 },
 "nbformat": 4,
 "nbformat_minor": 2
}
